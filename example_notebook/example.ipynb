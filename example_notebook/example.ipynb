{
 "cells": [
  {
   "cell_type": "code",
   "execution_count": 1,
   "metadata": {},
   "outputs": [],
   "source": [
    "import yaml"
   ]
  },
  {
   "cell_type": "code",
   "execution_count": 2,
   "metadata": {},
   "outputs": [
    {
     "name": "stdout",
     "output_type": "stream",
     "text": [
      "Collecting pyYAML\n",
      "  Downloading PyYAML-6.0.1-cp37-cp37m-macosx_10_9_x86_64.whl (189 kB)\n",
      "\u001b[K     |████████████████████████████████| 189 kB 4.5 MB/s eta 0:00:01\n",
      "\u001b[?25hInstalling collected packages: pyYAML\n",
      "Successfully installed pyYAML-6.0.1\n"
     ]
    }
   ],
   "source": [
    "!pip install pyYAML"
   ]
  },
  {
   "cell_type": "code",
   "execution_count": null,
   "metadata": {},
   "outputs": [],
   "source": []
  }
 ],
 "metadata": {
  "kernelspec": {
   "display_name": "myenv",
   "language": "python",
   "name": "python3"
  },
  "language_info": {
   "codemirror_mode": {
    "name": "ipython",
    "version": 3
   },
   "file_extension": ".py",
   "mimetype": "text/x-python",
   "name": "python",
   "nbconvert_exporter": "python",
   "pygments_lexer": "ipython3",
   "version": "3.7.10"
  },
  "orig_nbformat": 4,
  "vscode": {
   "interpreter": {
    "hash": "0c80c2432669005f7db3a60e754f29b94369ced0d33e4f78a22fe4b9090b5f0e"
   }
  }
 },
 "nbformat": 4,
 "nbformat_minor": 2
}
